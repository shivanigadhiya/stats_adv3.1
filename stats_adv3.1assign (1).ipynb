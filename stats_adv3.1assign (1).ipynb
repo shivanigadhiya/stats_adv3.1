{
 "cells": [
  {
   "cell_type": "markdown",
   "id": "201db1a8-86f2-46d8-8946-da8a1fed7160",
   "metadata": {},
   "source": [
    "Q1: What is the difference between a t-test and a z-test? Provide an example scenario where you would\n",
    "use each type of test."
   ]
  },
  {
   "cell_type": "markdown",
   "id": "d8efa58c-a0b2-458f-8930-37cb4f5ce0bd",
   "metadata": {},
   "source": [
    "A z-test is used to test a Null Hypothesis if the population variance is known, or if the sample size is larger than 30, for an unknown population variance. A t-test is used when the sample size is less than 30 and the population variance is unknown."
   ]
  },
  {
   "cell_type": "markdown",
   "id": "63b27320-c7b0-4e57-a273-828a05b1e46d",
   "metadata": {},
   "source": [
    "Example : A factory manufactures bulbs with an average waranty of 5years with std 0.50 . A worker believes that the bulb will manufacture is less than 5 years . He tests a sample of 40 bulbs and find the avg time to be 4.8y.\n",
    "we can solve this example using z test."
   ]
  },
  {
   "cell_type": "markdown",
   "id": "77965c61-d117-43ed-af21-c6588ddf450a",
   "metadata": {},
   "source": [
    "Example : In the population avg IQ is 100.A team of researchers want to test a new medication to see if it has either a positive or negative effect on intelligence or no effect at all.A sample of 30 participants who have taken the maedication has mean of 140 with std of 20.Did the medication affect intelligence? CI = 95%\n",
    "We can solve this example using t test"
   ]
  },
  {
   "cell_type": "markdown",
   "id": "2d621916-031b-450c-bcf7-c1eaa487e0f7",
   "metadata": {},
   "source": [
    "Q2: Differentiate between one-tailed and two-tailed tests."
   ]
  },
  {
   "cell_type": "markdown",
   "id": "9a5fd25e-500f-4cae-b76b-25dfd396bdc8",
   "metadata": {},
   "source": [
    "One-tailed tests allow for the possibility of an effect in one direction. Two-tailed tests test for the possibility of an effect in two directions—positive and negative."
   ]
  },
  {
   "cell_type": "markdown",
   "id": "0ca59321-76cd-41ba-8c5f-c8ae9ae78f60",
   "metadata": {},
   "source": [
    "Q3: Explain the concept of Type 1 and Type 2 errors in hypothesis testing. Provide an example scenario for\n",
    "each type of error."
   ]
  },
  {
   "cell_type": "markdown",
   "id": "11853466-d7d2-4468-af6c-26c24e332bed",
   "metadata": {},
   "source": [
    "In type1 error we reject the null hypothesis when in reality it is True."
   ]
  },
  {
   "cell_type": "markdown",
   "id": "125d9493-c4fe-4cf8-9f97-7db555c089bb",
   "metadata": {},
   "source": [
    "In typw2 error we accept the null hypothesis when in reality , It is false."
   ]
  },
  {
   "cell_type": "markdown",
   "id": "a4fcfcfd-9d43-4db2-969a-aafae92fd2f6",
   "metadata": {},
   "source": [
    "Q4: Explain Bayes's theorem with an example."
   ]
  },
  {
   "cell_type": "markdown",
   "id": "afa08228-d3e3-417c-adb9-4323aab59e32",
   "metadata": {},
   "source": [
    "Bayes' Theorem states that the conditional probability of an event, based on the occurrence of another event, is equal to the likelihood of the second event given the first event multiplied by the probability of the first event."
   ]
  },
  {
   "cell_type": "markdown",
   "id": "ba6a6a32-b5f1-4449-9dc1-3f0cf94f75ea",
   "metadata": {},
   "source": [
    " For example there is a test for liver disease, which is different from actually having the liver disease, i.e. an event. Rare events might be having a higher false positive rate."
   ]
  },
  {
   "cell_type": "markdown",
   "id": "bf679db8-700c-44f9-8694-41d88cc0ad7e",
   "metadata": {},
   "source": [
    "Q5: What is a confidence interval? How to calculate the confidence interval, explain with an example."
   ]
  },
  {
   "cell_type": "markdown",
   "id": "0af7b706-2e5f-4273-9036-8b2e22ea15e8",
   "metadata": {},
   "source": [
    "We construct the confidence interval to help estimate what the actual value of the unknown population meqn is."
   ]
  },
  {
   "cell_type": "markdown",
   "id": "95a0eae3-c62c-412c-a6ee-9aa347f9e987",
   "metadata": {},
   "source": [
    "example : On the verbal section of CAT exam , the std is known to be 100. A sample of 25 test takers has a mean of 520. Construct a 95% CI about the mean."
   ]
  },
  {
   "cell_type": "markdown",
   "id": "33feaa12-4068-47bc-92a7-b0983d98bcad",
   "metadata": {},
   "source": [
    "std = 100,n = 25, x bar = 520 , CI = 0.95 , alpha = 0.05\n",
    "lower CI = x bar - z alpha/2 * std/root n\n",
    "higher CI =  x bar + z alpha/2 * std/root n"
   ]
  },
  {
   "cell_type": "markdown",
   "id": "dc9d3b75-e0a3-41f8-b473-9ed78b5a6637",
   "metadata": {},
   "source": [
    "Confidence Interval = 480.8 , 559.2"
   ]
  },
  {
   "cell_type": "markdown",
   "id": "75769c24-e20e-4939-a8e1-c70264351cab",
   "metadata": {},
   "source": [
    "Q6. Use Bayes' Theorem to calculate the probability of an event occurring given prior knowledge of the\n",
    "event's probability and new evidence. Provide a sample problem and solution."
   ]
  },
  {
   "cell_type": "markdown",
   "id": "60f995e2-5699-47b2-84cd-3edf001977f4",
   "metadata": {},
   "source": [
    "Pr(A|B) = Pr(A) * Pr(B)/ Pr(B) or Pr(B|A) = Pr(A) * Pr(B) / Pr(A)"
   ]
  },
  {
   "cell_type": "markdown",
   "id": "b50bcc60-0b5f-4b05-b029-c13240f0a24c",
   "metadata": {},
   "source": [
    "A bag I contains 4 white and 6 black balls while another Bag II contains 4 white and 3 black balls. One ball is drawn at random from one of the bags, and it is found to be black. Find the probability that it was drawn from Bag I."
   ]
  },
  {
   "cell_type": "markdown",
   "id": "db2bd3d3-3e9b-45cc-88f0-99e5e22ef8d1",
   "metadata": {},
   "source": [
    "\n",
    "  \n",
    "Also, P(A|E1) = P(drawing a black ball from Bag I) = 6/10 = 3/5\n",
    "\n",
    "P(A|E2) = P(drawing a black ball from Bag II) = 3/7\n",
    "\n",
    "By using Bayes’ theorem, the probability of drawing a black ball from bag I out of two bags,\n",
    "\n",
    "\n",
    "│\n",
    " \n"
   ]
  },
  {
   "cell_type": "markdown",
   "id": "7c0e6f31-7296-4681-a789-f7c54ecd9d06",
   "metadata": {},
   "source": [
    "Pr(E1|A) = 7/12"
   ]
  },
  {
   "cell_type": "markdown",
   "id": "06b7d38f-9a4b-4c73-b9bf-3b27ff6e760e",
   "metadata": {},
   "source": [
    "Q7. Calculate the 95% confidence interval for a sample of data with a mean of 50 and a standard deviation\n",
    "of 5. Interpret the results."
   ]
  },
  {
   "cell_type": "markdown",
   "id": "a31c1d3b-cdab-4d72-b885-d86f84606dc1",
   "metadata": {},
   "source": [
    "The confidence interval essentially provides a range of values that likely contains the true population mean. The wider the interval, the less precise our estimate of the population mean, and the narrower the interval, the more precise our estimate. A 95% confidence interval means that if we were to take many samples and calculate 95% confidence intervals from each sample, we would expect approximately 95% of those intervals to contain the true population mean."
   ]
  },
  {
   "cell_type": "markdown",
   "id": "8b3d0ff4-b0d2-4085-98da-9d349aeb5933",
   "metadata": {},
   "source": [
    "Q8. What is the margin of error in a confidence interval? How does sample size affect the margin of error?\n",
    "Provide an example of a scenario where a larger sample size would result in a smaller margin of error."
   ]
  },
  {
   "cell_type": "markdown",
   "id": "eaf5b593-b5cd-4a3f-84df-81078603b6b9",
   "metadata": {},
   "source": [
    "an acceptable error rate in the estimate can also be set, called the margin of error"
   ]
  },
  {
   "cell_type": "markdown",
   "id": "8040f2da-4b08-424c-b9af-7730b8d5f108",
   "metadata": {},
   "source": [
    "Notice that within the margin of error, we divide by n (the sample size). Thus, when the sample size is large we divide by a large number, which makes the entire margin of error smaller. This leads to a narrower confidence interval."
   ]
  },
  {
   "cell_type": "markdown",
   "id": "2970986b-765c-4316-a38c-7b6436c7ce2e",
   "metadata": {},
   "source": [
    "Q9. Calculate the z-score for a data point with a value of 75, a population mean of 70, and a population\n",
    "standard deviation of 5. Interpret the results."
   ]
  },
  {
   "cell_type": "markdown",
   "id": "bde61ce1-bc8f-4394-92b2-71fde5a9aad7",
   "metadata": {},
   "source": [
    "A z-score of 1 means that the data point is 1 standard deviation above the mean of the population. In this context, a z-score of 1 indicates that the data point of 75 is 1 standard deviation above the population mean of 70. This suggests that the data point is higher than the average value in the population and provides a measure of how far it deviates from the mean in terms of standard deviations."
   ]
  },
  {
   "cell_type": "markdown",
   "id": "127a67db-33bf-4f12-8c28-c7184094f2bc",
   "metadata": {},
   "source": [
    "Q10. In a study of the effectiveness of a new weight loss drug, a sample of 50 participants lost an average\n",
    "of 6 pounds with a standard deviation of 2.5 pounds. Conduct a hypothesis test to determine if the drug is\n",
    "significantly effective at a 95% confidence level using a t-test."
   ]
  },
  {
   "cell_type": "markdown",
   "id": "9c9e0b30-3d51-4ef2-a0bb-ffa26ccc52cf",
   "metadata": {},
   "source": [
    "t-test value = 16.98 it is one tail test."
   ]
  },
  {
   "cell_type": "markdown",
   "id": "0516e1c9-0acd-4936-a381-66166a9c6f4a",
   "metadata": {},
   "source": [
    "critical value = 1.6"
   ]
  },
  {
   "cell_type": "markdown",
   "id": "22649b99-6662-4e5b-9038-8aec475947d7",
   "metadata": {},
   "source": [
    "Since we have rejected the null hypothesis, we conclude that the weight loss drug is significantly effective at a 95% confidence level. There is strong evidence to suggest that the population mean weight loss with the drug is greater than 0 pounds."
   ]
  },
  {
   "cell_type": "markdown",
   "id": "7fbb6469-a1aa-442c-9a4e-ddc528bc39cf",
   "metadata": {},
   "source": [
    "Q11. In a survey of 500 people, 65% reported being satisfied with their current job. Calculate the 95%\n",
    "confidence interval for the true proportion of people who are satisfied with their job."
   ]
  },
  {
   "cell_type": "markdown",
   "id": "e0946091-171e-48d1-88e6-371403b43256",
   "metadata": {},
   "source": [
    "The 95% confidence interval for the true proportion of people who are satisfied with their job is approximately 60.82% to 69.18%. This means we are 95% confident that the true proportion of people satisfied with their job falls within this interval based on the sample data."
   ]
  },
  {
   "cell_type": "markdown",
   "id": "aae394c5-6eab-42ba-b055-a1d5cb138641",
   "metadata": {},
   "source": [
    "Q12. A researcher is testing the effectiveness of two different teaching methods on student performance.\n",
    "Sample A has a mean score of 85 with a standard deviation of 6, while sample B has a mean score of 82\n",
    "with a standard deviation of 5. Conduct a hypothesis test to determine if the two teaching methods have a\n",
    "significant difference in student performance using a t-test with a significance level of 0.01."
   ]
  },
  {
   "cell_type": "markdown",
   "id": "d44af99e-b954-4796-90f5-a83c5af22d30",
   "metadata": {},
   "source": [
    "If the calculated t-statistic is greater than the critical t-value, you reject the null hypothesis.\n",
    "If the calculated t-statistic is less than the negative of the critical t-value, you also reject the null hypothesis."
   ]
  },
  {
   "cell_type": "markdown",
   "id": "d6c02038-01db-4461-b505-8731bd908f46",
   "metadata": {},
   "source": [
    "Q13. A population has a mean of 60 and a standard deviation of 8. A sample of 50 observations has a mean\n",
    "of 65. Calculate the 90% confidence interval for the true population mean."
   ]
  },
  {
   "cell_type": "markdown",
   "id": "2e5d16a5-09e0-4446-a5d7-94cee7652877",
   "metadata": {},
   "source": [
    "two taail test. z test value  = 4.4194. using z table 0.9999 , p value = 1-0.9999=0.0001, add area = 0.0001\n",
    "+0.0001 = 0.0002 <0.05 so, we reject the null hypothesis."
   ]
  },
  {
   "cell_type": "markdown",
   "id": "428e20c7-b423-4d42-a53f-582256914765",
   "metadata": {},
   "source": [
    "Q14. In a study of the effects of caffeine on reaction time, a sample of 30 participants had an average\n",
    "reaction time of 0.25 seconds with a standard deviation of 0.05 seconds. Conduct a hypothesis test to\n",
    "determine if the caffeine has a significant effect on reaction time at a 90% confidence level using a t-test."
   ]
  },
  {
   "cell_type": "markdown",
   "id": "d2c344d9-327d-4b62-a229-24ae33419818",
   "metadata": {},
   "source": [
    "n = 30,xbar = 0.25,std = 0.05,alpha = 0.90,ci = 1-0.90 = 0.1"
   ]
  },
  {
   "cell_type": "markdown",
   "id": "578caa54",
   "metadata": {},
   "source": [
    "If the calculated t-statistic falls outside the critical t-values, you reject the null hypothesis. If the calculated t-statistic falls within the range of the critical t-values, you fail to reject the null hypothesis."
   ]
  },
  {
   "cell_type": "markdown",
   "id": "c215a761",
   "metadata": {},
   "source": []
  }
 ],
 "metadata": {
  "kernelspec": {
   "display_name": "Python 3 (ipykernel)",
   "language": "python",
   "name": "python3"
  },
  "language_info": {
   "codemirror_mode": {
    "name": "ipython",
    "version": 3
   },
   "file_extension": ".py",
   "mimetype": "text/x-python",
   "name": "python",
   "nbconvert_exporter": "python",
   "pygments_lexer": "ipython3",
   "version": "3.10.8"
  }
 },
 "nbformat": 4,
 "nbformat_minor": 5
}
